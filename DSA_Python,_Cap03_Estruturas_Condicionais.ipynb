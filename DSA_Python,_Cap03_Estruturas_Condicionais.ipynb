{
  "nbformat": 4,
  "nbformat_minor": 0,
  "metadata": {
    "colab": {
      "name": "DSA - Python, Cap03 - Estruturas Condicionais.ipynb",
      "provenance": [],
      "toc_visible": true,
      "authorship_tag": "ABX9TyPtW/7EUiO2HvbSwqLhWhYt",
      "include_colab_link": true
    },
    "kernelspec": {
      "name": "python3",
      "display_name": "Python 3"
    }
  },
  "cells": [
    {
      "cell_type": "markdown",
      "metadata": {
        "id": "view-in-github",
        "colab_type": "text"
      },
      "source": [
        "<a href=\"https://colab.research.google.com/github/Rodcbatista/DSA-Python_Fundamentos_Analise_de_Dados/blob/master/DSA_Python%2C_Cap03_Estruturas_Condicionais.ipynb\" target=\"_parent\"><img src=\"https://colab.research.google.com/assets/colab-badge.svg\" alt=\"Open In Colab\"/></a>"
      ]
    },
    {
      "cell_type": "markdown",
      "metadata": {
        "id": "t2F2-LqbUv2N",
        "colab_type": "text"
      },
      "source": [
        "Condicional If"
      ]
    },
    {
      "cell_type": "code",
      "metadata": {
        "id": "BECC3HXmU8YN",
        "colab_type": "code",
        "colab": {
          "base_uri": "https://localhost:8080/",
          "height": 34
        },
        "outputId": "faf3cebd-dffb-47de-c994-97f41c7cf5f5"
      },
      "source": [
        "#Condicional If \n",
        "if 5>2:\n",
        "  print(\"Python é top!\")"
      ],
      "execution_count": null,
      "outputs": [
        {
          "output_type": "stream",
          "text": [
            "Python é top!\n"
          ],
          "name": "stdout"
        }
      ]
    },
    {
      "cell_type": "code",
      "metadata": {
        "id": "fZ7iGZhJVEho",
        "colab_type": "code",
        "colab": {
          "base_uri": "https://localhost:8080/",
          "height": 34
        },
        "outputId": "a3e210fb-4a01-4090-c1fe-687a2308dbd1"
      },
      "source": [
        "#If and Else\n",
        "if 5<2:\n",
        "  print(\"Python é top!\")\n",
        "else: \n",
        "  print(\"Not working!\")"
      ],
      "execution_count": null,
      "outputs": [
        {
          "output_type": "stream",
          "text": [
            "Not working!\n"
          ],
          "name": "stdout"
        }
      ]
    },
    {
      "cell_type": "code",
      "metadata": {
        "id": "htui7sw5UkqI",
        "colab_type": "code",
        "colab": {
          "base_uri": "https://localhost:8080/",
          "height": 34
        },
        "outputId": "8bd54457-a78d-4f61-97c4-d03696bf5777"
      },
      "source": [
        "6 > 3"
      ],
      "execution_count": null,
      "outputs": [
        {
          "output_type": "execute_result",
          "data": {
            "text/plain": [
              "True"
            ]
          },
          "metadata": {
            "tags": []
          },
          "execution_count": 3
        }
      ]
    },
    {
      "cell_type": "code",
      "metadata": {
        "id": "1MlBaU2-VlIQ",
        "colab_type": "code",
        "colab": {
          "base_uri": "https://localhost:8080/",
          "height": 34
        },
        "outputId": "754db90c-fc62-498b-c6f1-7a74c156531d"
      },
      "source": [
        "5 > 9"
      ],
      "execution_count": null,
      "outputs": [
        {
          "output_type": "execute_result",
          "data": {
            "text/plain": [
              "False"
            ]
          },
          "metadata": {
            "tags": []
          },
          "execution_count": 4
        }
      ]
    },
    {
      "cell_type": "code",
      "metadata": {
        "id": "VXO42mbtVmQ6",
        "colab_type": "code",
        "colab": {
          "base_uri": "https://localhost:8080/",
          "height": 34
        },
        "outputId": "2115621e-fed2-42ba-a986-237b3d9035ff"
      },
      "source": [
        "9 < 5"
      ],
      "execution_count": null,
      "outputs": [
        {
          "output_type": "execute_result",
          "data": {
            "text/plain": [
              "False"
            ]
          },
          "metadata": {
            "tags": []
          },
          "execution_count": 5
        }
      ]
    },
    {
      "cell_type": "code",
      "metadata": {
        "id": "46Y1cFPEVoGa",
        "colab_type": "code",
        "colab": {
          "base_uri": "https://localhost:8080/",
          "height": 34
        },
        "outputId": "5928fc74-5cae-40f1-e0f6-5967e55d2f98"
      },
      "source": [
        "2 > 1"
      ],
      "execution_count": null,
      "outputs": [
        {
          "output_type": "execute_result",
          "data": {
            "text/plain": [
              "True"
            ]
          },
          "metadata": {
            "tags": []
          },
          "execution_count": 6
        }
      ]
    },
    {
      "cell_type": "code",
      "metadata": {
        "id": "Qte-CbIDVp95",
        "colab_type": "code",
        "colab": {
          "base_uri": "https://localhost:8080/",
          "height": 34
        },
        "outputId": "49b69f71-e107-4712-d76b-d2ebf7c53559"
      },
      "source": [
        "if 5 == 5:\n",
        "  print(\"Nice job!\")\n",
        "else:\n",
        "  print(\"Not working!!!\")"
      ],
      "execution_count": null,
      "outputs": [
        {
          "output_type": "stream",
          "text": [
            "Nice job!\n"
          ],
          "name": "stdout"
        }
      ]
    },
    {
      "cell_type": "code",
      "metadata": {
        "id": "jeIwpotpVzjn",
        "colab_type": "code",
        "colab": {
          "base_uri": "https://localhost:8080/",
          "height": 34
        },
        "outputId": "63bbe087-6b01-4ced-99b1-48aa02ec42d2"
      },
      "source": [
        "if True:\n",
        "  print(\"É, tudo está okay :D\")"
      ],
      "execution_count": null,
      "outputs": [
        {
          "output_type": "stream",
          "text": [
            "É, tudo está okay :D\n"
          ],
          "name": "stdout"
        }
      ]
    },
    {
      "cell_type": "code",
      "metadata": {
        "id": "2qjPh9sGXPet",
        "colab_type": "code",
        "colab": {
          "base_uri": "https://localhost:8080/",
          "height": 129
        },
        "outputId": "d8988598-8af8-442f-baf3-ed93d3a53d40"
      },
      "source": [
        "# Atenção com a sintaxe \n",
        "if 4 < 2\n",
        "  print(\"Error test\")"
      ],
      "execution_count": null,
      "outputs": [
        {
          "output_type": "error",
          "ename": "SyntaxError",
          "evalue": "ignored",
          "traceback": [
            "\u001b[0;36m  File \u001b[0;32m\"<ipython-input-9-4a05e2e30cd9>\"\u001b[0;36m, line \u001b[0;32m2\u001b[0m\n\u001b[0;31m    if 4 < 2\u001b[0m\n\u001b[0m            ^\u001b[0m\n\u001b[0;31mSyntaxError\u001b[0m\u001b[0;31m:\u001b[0m invalid syntax\n"
          ]
        }
      ]
    },
    {
      "cell_type": "code",
      "metadata": {
        "id": "0ome5Ny0XYbF",
        "colab_type": "code",
        "colab": {}
      },
      "source": [
        "# Atenção com a sintaxe\n",
        "if 4<2:\n",
        "print(\"Lalele\")"
      ],
      "execution_count": null,
      "outputs": []
    },
    {
      "cell_type": "markdown",
      "metadata": {
        "id": "Mj6jU2yQXuVm",
        "colab_type": "text"
      },
      "source": [
        "# Condicionais Aninhadas"
      ]
    },
    {
      "cell_type": "code",
      "metadata": {
        "id": "mVCO2EByXywW",
        "colab_type": "code",
        "colab": {
          "base_uri": "https://localhost:8080/",
          "height": 34
        },
        "outputId": "d94b117b-a4a8-47cb-85fe-f2cd7ec54eff"
      },
      "source": [
        "idade = 18\n",
        "if idade > 17:\n",
        "  print(\"Vá a auto-escola o mais rapido que puder!\")"
      ],
      "execution_count": null,
      "outputs": [
        {
          "output_type": "stream",
          "text": [
            "Vá a auto-escola o mais rapido que puder!\n"
          ],
          "name": "stdout"
        }
      ]
    },
    {
      "cell_type": "code",
      "metadata": {
        "id": "WGWVf1y9X9hi",
        "colab_type": "code",
        "colab": {
          "base_uri": "https://localhost:8080/",
          "height": 34
        },
        "outputId": "dcf51c17-4582-4fe9-ca9d-1d3759daf711"
      },
      "source": [
        "nome = \"Bob\"\n",
        "if idade > 13: \n",
        "  if nome == \"Bob\":\n",
        "    print(\"Ok Bob, você pode entrar.\")\n",
        "  else:\n",
        "    print(\"Is that you maaan?\")"
      ],
      "execution_count": null,
      "outputs": [
        {
          "output_type": "stream",
          "text": [
            "Ok Bob, você pode entrar.\n"
          ],
          "name": "stdout"
        }
      ]
    },
    {
      "cell_type": "code",
      "metadata": {
        "id": "kYkXSLhDYSzH",
        "colab_type": "code",
        "colab": {
          "base_uri": "https://localhost:8080/",
          "height": 34
        },
        "outputId": "bde3ee51-e00e-456c-e719-1621e2a80d77"
      },
      "source": [
        "idade = 13\n",
        "nome = \"Bob\"\n",
        "if idade >= 13 and nome == \"Bob\":\n",
        "  print(\"Show Bob! Você deve entrar!\")"
      ],
      "execution_count": null,
      "outputs": [
        {
          "output_type": "stream",
          "text": [
            "Show Bob! Você deve entrar!\n"
          ],
          "name": "stdout"
        }
      ]
    },
    {
      "cell_type": "code",
      "metadata": {
        "id": "qaluD1mXYlVA",
        "colab_type": "code",
        "colab": {
          "base_uri": "https://localhost:8080/",
          "height": 34
        },
        "outputId": "d5771523-b90a-4e3c-ccf1-1d867a177694"
      },
      "source": [
        "idade = 12 \n",
        "nome = \"Bob\"\n",
        "if (idade >=13) or (nome == \"Bob\"):\n",
        "  print(\"Ok Bob, let's go!\")"
      ],
      "execution_count": null,
      "outputs": [
        {
          "output_type": "stream",
          "text": [
            "Ok Bob, let's go!\n"
          ],
          "name": "stdout"
        }
      ]
    },
    {
      "cell_type": "markdown",
      "metadata": {
        "id": "oLrjl5qfZzoF",
        "colab_type": "text"
      },
      "source": [
        "# Elif"
      ]
    },
    {
      "cell_type": "code",
      "metadata": {
        "id": "BF5nzQwdZ1jy",
        "colab_type": "code",
        "colab": {
          "base_uri": "https://localhost:8080/",
          "height": 34
        },
        "outputId": "da6a30bb-46df-4738-f83f-0a0c6957ff5a"
      },
      "source": [
        "dia = \"Quinta\"\n",
        "if dia == \"Segunda\":\n",
        "  print(\"Hoje fará sol\")\n",
        "else:\n",
        "  print(\"Vamos à previsão do tempo\")"
      ],
      "execution_count": null,
      "outputs": [
        {
          "output_type": "stream",
          "text": [
            "Vamos à previsão do tempo\n"
          ],
          "name": "stdout"
        }
      ]
    },
    {
      "cell_type": "code",
      "metadata": {
        "id": "7TnmYOt8aEgi",
        "colab_type": "code",
        "colab": {
          "base_uri": "https://localhost:8080/",
          "height": 34
        },
        "outputId": "3849f197-285f-4a5c-d746-c2efd23052c7"
      },
      "source": [
        "if dia == \"Segunda\":\n",
        "  print(\"Hoje fará sol\")\n",
        "elif dia == \"Terça\":\n",
        "  print(\"Hoje o tempo ficará nublado\")\n",
        "elif dia == \"Quarta\":\n",
        "  print(\"Hoje não temos previsão\")\n",
        "elif dia == \"Quinta\":\n",
        "  print(\"Hoje fará sol com pancadas de chuva isolada\")\n",
        "else:\n",
        "  print(\"Vamos acampar!!!!\")"
      ],
      "execution_count": null,
      "outputs": [
        {
          "output_type": "stream",
          "text": [
            "Hoje fará sol com pancadas de chuva isolada\n"
          ],
          "name": "stdout"
        }
      ]
    },
    {
      "cell_type": "markdown",
      "metadata": {
        "id": "B0azEA23bxno",
        "colab_type": "text"
      },
      "source": [
        "# Operadores lógicos"
      ]
    },
    {
      "cell_type": "code",
      "metadata": {
        "id": "R8652jc5el33",
        "colab_type": "code",
        "colab": {
          "base_uri": "https://localhost:8080/",
          "height": 85
        },
        "outputId": "29d9616f-f62f-4270-8944-783b3c1a63b5"
      },
      "source": [
        "# Usando mais de uma condição na cláusula if\n",
        "\n",
        "disciplina = input('Digite o nome da matéria: ')\n",
        "nota_finaln1 = input('Digite a nota da N1 (entre 0 e 10): ')\n",
        "nota_finaln2 = input('Digite a nota da N2 (entre 0 e 10): ')\n",
        "media_final = float(nota_finaln1 + nota_finaln2)/2\n",
        "\n",
        "if disciplina == 'Matemática' and media_final >= 7:\n",
        "  print('Você foi aprovado!')\n",
        "else:\n",
        "  print('Você não atingiu a média, gentileza procurar a secretaria.')"
      ],
      "execution_count": null,
      "outputs": [
        {
          "output_type": "stream",
          "text": [
            "Digite o nome da matéria: Matemática\n",
            "Digite a nota da N1 (entre 0 e 10): 8\n",
            "Digite a nota da N2 (entre 0 e 10): 9\n",
            "Você foi aprovado!\n"
          ],
          "name": "stdout"
        }
      ]
    },
    {
      "cell_type": "code",
      "metadata": {
        "id": "Iy7rHFsunB90",
        "colab_type": "code",
        "colab": {
          "base_uri": "https://localhost:8080/",
          "height": 85
        },
        "outputId": "2c8be3ce-8fd2-48ee-a2b5-df16a4bc6e2c"
      },
      "source": [
        "# Usando mais de uma condição na cláusula if e incluindo Placeholders\n",
        "# Quando o Python encontrar o primeiro percent, ele inputará e assim consecutivamente. (%s, r%)\n",
        "disciplina = input('Digita a matéria: ')\n",
        "nota_final = input('Digite a nota (entre 0 e 10): ')\n",
        "semestre = input('Digite o período (1° ao 6° bimestre): ')\n",
        "\n",
        "if disciplina == 'Matemática' and nota_final >= '5' and int(semestre) != 1:\n",
        "  print('Você foi aprovado em %s com média final %r!' % (disciplina, nota_final))\n",
        "else: \n",
        "  print('Não foi dessa vez, mas não desanime! Estude mais!')"
      ],
      "execution_count": null,
      "outputs": [
        {
          "output_type": "stream",
          "text": [
            "Digita a matéria: Matemática\n",
            "Digite a nota (entre 0 e 10): 4\n",
            "Digite o período (1° ao 6° bimestre): 2\n",
            "Não foi dessa vez, mas não desanime! Estude mais!\n"
          ],
          "name": "stdout"
        }
      ]
    },
    {
      "cell_type": "code",
      "metadata": {
        "id": "Cvo5cpJzqlIq",
        "colab_type": "code",
        "colab": {}
      },
      "source": [
        ""
      ],
      "execution_count": null,
      "outputs": []
    },
    {
      "cell_type": "markdown",
      "metadata": {
        "id": "BB-nC3B0sFDN",
        "colab_type": "text"
      },
      "source": [
        "# Loop For"
      ]
    },
    {
      "cell_type": "code",
      "metadata": {
        "id": "RB1w1zLjsIXl",
        "colab_type": "code",
        "colab": {
          "base_uri": "https://localhost:8080/",
          "height": 68
        },
        "outputId": "66961fae-b1f2-41b4-884a-f956baf30a7f"
      },
      "source": [
        "# Criando uma tupla e imprimindo cada um dos valores\n",
        "# Tupla = () Parênteses\n",
        "tp = (2,3,4)\n",
        "for i in tp:\n",
        "  print(i)"
      ],
      "execution_count": null,
      "outputs": [
        {
          "output_type": "stream",
          "text": [
            "2\n",
            "3\n",
            "4\n"
          ],
          "name": "stdout"
        }
      ]
    },
    {
      "cell_type": "code",
      "metadata": {
        "id": "nhF15BettY6M",
        "colab_type": "code",
        "colab": {
          "base_uri": "https://localhost:8080/",
          "height": 85
        },
        "outputId": "a073133e-ba2c-47c7-c777-6938f27f4108"
      },
      "source": [
        "# Criando uma lista e imprimindo cada um dos valores\n",
        "# Listas = [] Colchetes\n",
        "listadomercado = [\"leite\",\"maca\",\"ovos\",\"pão integral\"]\n",
        "for i in listadomercado:\n",
        "    print(i)"
      ],
      "execution_count": null,
      "outputs": [
        {
          "output_type": "stream",
          "text": [
            "leite\n",
            "maca\n",
            "ovos\n",
            "pão integral\n"
          ],
          "name": "stdout"
        }
      ]
    },
    {
      "cell_type": "code",
      "metadata": {
        "id": "v2I0v8TKuNDz",
        "colab_type": "code",
        "colab": {
          "base_uri": "https://localhost:8080/",
          "height": 102
        },
        "outputId": "faed8723-f1c3-43fa-de51-440be8bd836d"
      },
      "source": [
        "# imprimindo os valores no intervalo entre 0 e 5 (exclusive)\n",
        "for contador in range(0,5):\n",
        "    print(contador)"
      ],
      "execution_count": null,
      "outputs": [
        {
          "output_type": "stream",
          "text": [
            "0\n",
            "1\n",
            "2\n",
            "3\n",
            "4\n"
          ],
          "name": "stdout"
        }
      ]
    },
    {
      "cell_type": "code",
      "metadata": {
        "id": "yJNlnBxavUHx",
        "colab_type": "code",
        "colab": {
          "base_uri": "https://localhost:8080/",
          "height": 102
        },
        "outputId": "17b4c2c0-d55e-4a03-afdd-40ab9ee5e1b2"
      },
      "source": [
        "# Imprimindo na tela os números pares da lista de números\n",
        "lista = [1,2,3,4,5,6,7,8,9,10]\n",
        "for num in lista:\n",
        "  if num % 2 == 0:\n",
        "    print(num)"
      ],
      "execution_count": null,
      "outputs": [
        {
          "output_type": "stream",
          "text": [
            "2\n",
            "4\n",
            "6\n",
            "8\n",
            "10\n"
          ],
          "name": "stdout"
        }
      ]
    },
    {
      "cell_type": "code",
      "metadata": {
        "id": "5010s3WQuZTU",
        "colab_type": "code",
        "colab": {
          "base_uri": "https://localhost:8080/",
          "height": 884
        },
        "outputId": "ef8073f0-f3b1-4367-d2c2-b06a5edf156d"
      },
      "source": [
        "# listando os números no intervalo entre 0 e 101, com incremento de 2\n",
        "for i in range (0,101,2):\n",
        "  print(i)"
      ],
      "execution_count": null,
      "outputs": [
        {
          "output_type": "stream",
          "text": [
            "0\n",
            "2\n",
            "4\n",
            "6\n",
            "8\n",
            "10\n",
            "12\n",
            "14\n",
            "16\n",
            "18\n",
            "20\n",
            "22\n",
            "24\n",
            "26\n",
            "28\n",
            "30\n",
            "32\n",
            "34\n",
            "36\n",
            "38\n",
            "40\n",
            "42\n",
            "44\n",
            "46\n",
            "48\n",
            "50\n",
            "52\n",
            "54\n",
            "56\n",
            "58\n",
            "60\n",
            "62\n",
            "64\n",
            "66\n",
            "68\n",
            "70\n",
            "72\n",
            "74\n",
            "76\n",
            "78\n",
            "80\n",
            "82\n",
            "84\n",
            "86\n",
            "88\n",
            "90\n",
            "92\n",
            "94\n",
            "96\n",
            "98\n",
            "100\n"
          ],
          "name": "stdout"
        }
      ]
    },
    {
      "cell_type": "code",
      "metadata": {
        "id": "j4AOUQCoyAkK",
        "colab_type": "code",
        "colab": {
          "base_uri": "https://localhost:8080/",
          "height": 850
        },
        "outputId": "24ff3669-4bfc-45ea-a10d-6a44c26b3259"
      },
      "source": [
        "# Strings também são sequências\n",
        "for caracter in 'Python é uma linguagem essencial na década atual!':\n",
        "  print(caracter)"
      ],
      "execution_count": null,
      "outputs": [
        {
          "output_type": "stream",
          "text": [
            "P\n",
            "y\n",
            "t\n",
            "h\n",
            "o\n",
            "n\n",
            " \n",
            "é\n",
            " \n",
            "u\n",
            "m\n",
            "a\n",
            " \n",
            "l\n",
            "i\n",
            "n\n",
            "g\n",
            "u\n",
            "a\n",
            "g\n",
            "e\n",
            "m\n",
            " \n",
            "e\n",
            "s\n",
            "s\n",
            "e\n",
            "n\n",
            "c\n",
            "i\n",
            "a\n",
            "l\n",
            " \n",
            "n\n",
            "a\n",
            " \n",
            "d\n",
            "é\n",
            "c\n",
            "a\n",
            "d\n",
            "a\n",
            " \n",
            "a\n",
            "t\n",
            "u\n",
            "a\n",
            "l\n",
            "!\n"
          ],
          "name": "stdout"
        }
      ]
    },
    {
      "cell_type": "markdown",
      "metadata": {
        "id": "ys898jcGX7NK",
        "colab_type": "text"
      },
      "source": [
        "# Loops Aninhados"
      ]
    },
    {
      "cell_type": "code",
      "metadata": {
        "id": "CcF1cZtLyTUh",
        "colab_type": "code",
        "colab": {
          "base_uri": "https://localhost:8080/",
          "height": 527
        },
        "outputId": "f935b2e3-a1c7-47f7-b81c-2912aa286adb"
      },
      "source": [
        "#loops aninhados\n",
        "for i in range(0,3):\n",
        "  for a in range(1,11):\n",
        "    print(a)"
      ],
      "execution_count": null,
      "outputs": [
        {
          "output_type": "stream",
          "text": [
            "1\n",
            "2\n",
            "3\n",
            "4\n",
            "5\n",
            "6\n",
            "7\n",
            "8\n",
            "9\n",
            "10\n",
            "1\n",
            "2\n",
            "3\n",
            "4\n",
            "5\n",
            "6\n",
            "7\n",
            "8\n",
            "9\n",
            "10\n",
            "1\n",
            "2\n",
            "3\n",
            "4\n",
            "5\n",
            "6\n",
            "7\n",
            "8\n",
            "9\n",
            "10\n"
          ],
          "name": "stdout"
        }
      ]
    },
    {
      "cell_type": "code",
      "metadata": {
        "id": "8VS-JK-XYD9N",
        "colab_type": "code",
        "colab": {
          "base_uri": "https://localhost:8080/",
          "height": 34
        },
        "outputId": "b1bf01a9-1ec7-42b2-a71a-9afd24735bfe"
      },
      "source": [
        "# operando os valores de uma lista com loop for\n",
        "listaB = [32,53,85,10,15,17,19]\n",
        "soma = 0\n",
        "for i in listaB:\n",
        "  double_i = i * 2 \n",
        "  soma += double_i\n",
        "\n",
        "print(soma)"
      ],
      "execution_count": null,
      "outputs": [
        {
          "output_type": "stream",
          "text": [
            "462\n"
          ],
          "name": "stdout"
        }
      ]
    },
    {
      "cell_type": "code",
      "metadata": {
        "id": "1oMpQNlfYtvq",
        "colab_type": "code",
        "colab": {
          "base_uri": "https://localhost:8080/",
          "height": 68
        },
        "outputId": "ba5a4802-381d-425c-e8da-420a6de4c906"
      },
      "source": [
        "# loops em lista de listas\n",
        "listas = [[1,2,3],[10,15,14],[10.1,8.7,2.3]]\n",
        "for valor in listas:\n",
        "  print(valor)"
      ],
      "execution_count": null,
      "outputs": [
        {
          "output_type": "stream",
          "text": [
            "[1, 2, 3]\n",
            "[10, 15, 14]\n",
            "[10.1, 8.7, 2.3]\n"
          ],
          "name": "stdout"
        }
      ]
    },
    {
      "cell_type": "code",
      "metadata": {
        "id": "ks-TsnCZY-Ju",
        "colab_type": "code",
        "colab": {
          "base_uri": "https://localhost:8080/",
          "height": 34
        },
        "outputId": "f3a2a6eb-eecf-485c-9f5e-387dfcb7c6c0"
      },
      "source": [
        "# contando os itens de uma lista\n",
        "lista = [5,6,10,13,17,18,29]\n",
        "count = 0\n",
        "for item in lista:\n",
        "  count += 1\n",
        "\n",
        "print(count)"
      ],
      "execution_count": null,
      "outputs": [
        {
          "output_type": "stream",
          "text": [
            "7\n"
          ],
          "name": "stdout"
        }
      ]
    },
    {
      "cell_type": "code",
      "metadata": {
        "id": "uUNw0W2oZKvL",
        "colab_type": "code",
        "colab": {
          "base_uri": "https://localhost:8080/",
          "height": 34
        },
        "outputId": "f7f4ad37-b95b-4eb4-f144-e0c7cb2dff45"
      },
      "source": [
        "# contando o número de colunas\n",
        "lst = [[1,2,3],[3,4,5],[5,6,7]]\n",
        "primeira_linha = lst[0]\n",
        "count = 0\n",
        "for column in primeira_linha:\n",
        "  count = count + 1\n",
        "\n",
        "print(count)"
      ],
      "execution_count": null,
      "outputs": [
        {
          "output_type": "stream",
          "text": [
            "3\n"
          ],
          "name": "stdout"
        }
      ]
    },
    {
      "cell_type": "code",
      "metadata": {
        "id": "_h-SLvLybk6P",
        "colab_type": "code",
        "colab": {
          "base_uri": "https://localhost:8080/",
          "height": 34
        },
        "outputId": "7650bc03-9bb5-421b-9559-738b3c92784f"
      },
      "source": [
        "# pesquisando em listas \n",
        "listaC = [5,6,7,10,50]\n",
        "\n",
        "#loop através da lista\n",
        "for item in listaC:\n",
        "  if item == 5:\n",
        "      print(\"Número encontrado!\")"
      ],
      "execution_count": null,
      "outputs": [
        {
          "output_type": "stream",
          "text": [
            "Número encontrado!\n"
          ],
          "name": "stdout"
        }
      ]
    },
    {
      "cell_type": "code",
      "metadata": {
        "id": "fhz3zKTgampM",
        "colab_type": "code",
        "colab": {
          "base_uri": "https://localhost:8080/",
          "height": 68
        },
        "outputId": "01122014-0ce1-4618-a00b-dacd87282c30"
      },
      "source": [
        "# Listando as chaves de um dicionário\n",
        "dict = {'k1': 'Python','k2':'R','k3': 'Scala'}\n",
        "for item in dict:\n",
        "  print(item)"
      ],
      "execution_count": null,
      "outputs": [
        {
          "output_type": "stream",
          "text": [
            "k1\n",
            "k2\n",
            "k3\n"
          ],
          "name": "stdout"
        }
      ]
    },
    {
      "cell_type": "code",
      "metadata": {
        "id": "KNdGZrMOb-0I",
        "colab_type": "code",
        "colab": {
          "base_uri": "https://localhost:8080/",
          "height": 68
        },
        "outputId": "840ab2c5-3ecc-40e2-f618-e4d29d1a80de"
      },
      "source": [
        "# imprimindo chave e valor do dicionário. Usando o método items() para retornar os itens de um dicionário\n",
        "for k,v in dict.items():\n",
        "  print(k,v)"
      ],
      "execution_count": null,
      "outputs": [
        {
          "output_type": "stream",
          "text": [
            "k1 Python\n",
            "k2 R\n",
            "k3 Scala\n"
          ],
          "name": "stdout"
        }
      ]
    },
    {
      "cell_type": "markdown",
      "metadata": {
        "id": "v9IqFhn0d0r9",
        "colab_type": "text"
      },
      "source": [
        "# LOOP WHILE\n"
      ]
    },
    {
      "cell_type": "code",
      "metadata": {
        "id": "QEWUgFssd68p",
        "colab_type": "code",
        "colab": {}
      },
      "source": [
        "# Usando o loop while para imprimir os valores de 0 a 9"
      ],
      "execution_count": null,
      "outputs": []
    },
    {
      "cell_type": "code",
      "metadata": {
        "id": "PhCD8W3FOZ1u",
        "colab_type": "code",
        "colab": {
          "base_uri": "https://localhost:8080/",
          "height": 187
        },
        "outputId": "5c976c96-7439-49de-ee71-19d8e6049620"
      },
      "source": [
        "counter = 0\n",
        "while counter < 10:\n",
        "  print(counter)\n",
        "  counter = counter + 1"
      ],
      "execution_count": null,
      "outputs": [
        {
          "output_type": "stream",
          "text": [
            "0\n",
            "1\n",
            "2\n",
            "3\n",
            "4\n",
            "5\n",
            "6\n",
            "7\n",
            "8\n",
            "9\n"
          ],
          "name": "stdout"
        }
      ]
    },
    {
      "cell_type": "code",
      "metadata": {
        "id": "zKGKlKsecoy5",
        "colab_type": "code",
        "colab": {
          "base_uri": "https://localhost:8080/",
          "height": 374
        },
        "outputId": "76df2713-6706-42f2-d153-2d9e7c700848"
      },
      "source": [
        "#Também é possível usar a cláusula else para encerrar o loop while\n",
        "x = 0\n",
        "while x < 10:\n",
        "  print('O valor é de: ', x)\n",
        "  print('x ainda é menor do que 10.')\n",
        "  x += 1\n",
        "\n",
        "else:\n",
        "  print('Concluído!')"
      ],
      "execution_count": null,
      "outputs": [
        {
          "output_type": "stream",
          "text": [
            "O valor é de:  0\n",
            "x ainda é menor do que 10.\n",
            "O valor é de:  1\n",
            "x ainda é menor do que 10.\n",
            "O valor é de:  2\n",
            "x ainda é menor do que 10.\n",
            "O valor é de:  3\n",
            "x ainda é menor do que 10.\n",
            "O valor é de:  4\n",
            "x ainda é menor do que 10.\n",
            "O valor é de:  5\n",
            "x ainda é menor do que 10.\n",
            "O valor é de:  6\n",
            "x ainda é menor do que 10.\n",
            "O valor é de:  7\n",
            "x ainda é menor do que 10.\n",
            "O valor é de:  8\n",
            "x ainda é menor do que 10.\n",
            "O valor é de:  9\n",
            "x ainda é menor do que 10.\n",
            "Concluído!\n"
          ],
          "name": "stdout"
        }
      ]
    },
    {
      "cell_type": "code",
      "metadata": {
        "id": "Uxjp5DtFO8GQ",
        "colab_type": "code",
        "colab": {}
      },
      "source": [
        "# Pass, Break e Continue"
      ],
      "execution_count": null,
      "outputs": []
    },
    {
      "cell_type": "code",
      "metadata": {
        "id": "P9JlOoJnTe6i",
        "colab_type": "code",
        "colab": {
          "base_uri": "https://localhost:8080/",
          "height": 85
        },
        "outputId": "3fe97bc9-cf80-4c91-a010-4e4ab13b4202"
      },
      "source": [
        "counter = 0 \n",
        "while counter < 100:\n",
        "  if counter ==4:\n",
        "    break\n",
        "  else: \n",
        "    pass\n",
        "  print(counter)\n",
        "  counter = counter + 1"
      ],
      "execution_count": null,
      "outputs": [
        {
          "output_type": "stream",
          "text": [
            "0\n",
            "1\n",
            "2\n",
            "3\n"
          ],
          "name": "stdout"
        }
      ]
    },
    {
      "cell_type": "code",
      "metadata": {
        "id": "8ZVjSg2gTsiT",
        "colab_type": "code",
        "colab": {
          "base_uri": "https://localhost:8080/",
          "height": 102
        },
        "outputId": "628ee274-6310-4130-b2c6-f486bfaf2769"
      },
      "source": [
        "#Aqui ele pula uma interação, no caso o H e dará sequência ao código\n",
        "for verificador in \"Python\":\n",
        "  if verificador == \"h\":\n",
        "    continue\n",
        "  print(verificador)"
      ],
      "execution_count": null,
      "outputs": [
        {
          "output_type": "stream",
          "text": [
            "P\n",
            "y\n",
            "t\n",
            "o\n",
            "n\n"
          ],
          "name": "stdout"
        }
      ]
    },
    {
      "cell_type": "code",
      "metadata": {
        "id": "dcX60fhQqxty",
        "colab_type": "code",
        "colab": {
          "base_uri": "https://localhost:8080/",
          "height": 187
        },
        "outputId": "7a9de3b2-41f2-4652-bbfd-89e88f3ea9dd"
      },
      "source": [
        "# % aqui representa divisão ok.\n",
        "#Aqui usamos o loop for para percorrer um range de valores (2,30), iremos atribuir 2 ao valor J e 0 ao counter (variáveis), \n",
        "# Enquanto J for menor do que i, eu vou fazer uma outra verificação, se o valor de i dividido por j for igual a 0, ou seja,\n",
        "# o resto da divisão é igual a 0, counter receberá 1 e J receberá J + 1, se não J recebe J + 1.\n",
        "#Nessa altura faremos outra checagem, se o contador é igual a 0, eu imprimo na tela, pois terei um número primo.\n",
        "#AQUI EU SOU CAPAZ DE DIZER OS NÚMEROS PRIMOS A PARTIR DE 2 ATÉ 30, conforme o range pré-estabelicido.\n",
        "\n",
        "for i in range(2,30):\n",
        "  j = 2\n",
        "  counter = 0\n",
        "  while j < i:\n",
        "    if i % j == 0:\n",
        "      counter = 1\n",
        "      j = j + 1\n",
        "    else: \n",
        "      j = j + 1\n",
        "\n",
        "  if counter == 0:\n",
        "    print(str(i) + \" é um número primo\")\n",
        "    counter = 0\n",
        "  else: \n",
        "    counter = 0"
      ],
      "execution_count": null,
      "outputs": [
        {
          "output_type": "stream",
          "text": [
            "2 é um número primo\n",
            "3 é um número primo\n",
            "5 é um número primo\n",
            "7 é um número primo\n",
            "11 é um número primo\n",
            "13 é um número primo\n",
            "17 é um número primo\n",
            "19 é um número primo\n",
            "23 é um número primo\n",
            "29 é um número primo\n"
          ],
          "name": "stdout"
        }
      ]
    },
    {
      "cell_type": "code",
      "metadata": {
        "id": "eWQSIdAOsb-o",
        "colab_type": "code",
        "colab": {}
      },
      "source": [
        ""
      ],
      "execution_count": null,
      "outputs": []
    },
    {
      "cell_type": "markdown",
      "metadata": {
        "id": "9xwnZHwzuV3b",
        "colab_type": "text"
      },
      "source": [
        "# Função Range (especificações)"
      ]
    },
    {
      "cell_type": "markdown",
      "metadata": {
        "id": "4N0B3J4iuaay",
        "colab_type": "text"
      },
      "source": [
        "A função range() tem o seguinte formato:\n",
        "range([start],[stop],[step])\n",
        "\n",
        "[start] - número que inicia a sequência;\n",
        "[stop] - número que encerra a sequência (não é incluído na sequência);\n",
        "[step] - é a diferença entre cada número da sequência.\n",
        "\n",
        "Exemplo: range(50,101,2)\n",
        "\n",
        "A lista retornará uma lista de números, começando com o valor 50, irá até o valor 101 (este não será incluido, ou seja, de fato vai até 100) e os números serão trazidos de 2 em 2. Ou seja, 50, 52, 54...\n",
        "\n",
        "A estrutura correto é \"for...\", conforme exemplo abaixo."
      ]
    },
    {
      "cell_type": "code",
      "metadata": {
        "id": "Yws73OtjvjHA",
        "colab_type": "code",
        "colab": {
          "base_uri": "https://localhost:8080/",
          "height": 119
        },
        "outputId": "b6ce05ae-9b40-4c13-c644-f98d87e95513"
      },
      "source": [
        "for i in range(0,11,2):\n",
        "  print(i)"
      ],
      "execution_count": null,
      "outputs": [
        {
          "output_type": "stream",
          "text": [
            "0\n",
            "2\n",
            "4\n",
            "6\n",
            "8\n",
            "10\n"
          ],
          "name": "stdout"
        }
      ]
    },
    {
      "cell_type": "code",
      "metadata": {
        "id": "DFNTv0Pmvpv6",
        "colab_type": "code",
        "colab": {
          "base_uri": "https://localhost:8080/",
          "height": 459
        },
        "outputId": "3f34956f-ab16-46c9-b132-e7d2a98412f8"
      },
      "source": [
        "# Imprimindo números pares entre 50 e 101\n",
        "for i in range(50,101,2):\n",
        "  print(i)"
      ],
      "execution_count": null,
      "outputs": [
        {
          "output_type": "stream",
          "text": [
            "50\n",
            "52\n",
            "54\n",
            "56\n",
            "58\n",
            "60\n",
            "62\n",
            "64\n",
            "66\n",
            "68\n",
            "70\n",
            "72\n",
            "74\n",
            "76\n",
            "78\n",
            "80\n",
            "82\n",
            "84\n",
            "86\n",
            "88\n",
            "90\n",
            "92\n",
            "94\n",
            "96\n",
            "98\n",
            "100\n"
          ],
          "name": "stdout"
        }
      ]
    },
    {
      "cell_type": "code",
      "metadata": {
        "id": "o4nnVy88wILE",
        "colab_type": "code",
        "colab": {
          "base_uri": "https://localhost:8080/",
          "height": 187
        },
        "outputId": "57545179-e1f0-469e-85b9-ac3fe0109909"
      },
      "source": [
        "for i in range(0,-20,-2):\n",
        "  print(i)"
      ],
      "execution_count": null,
      "outputs": [
        {
          "output_type": "stream",
          "text": [
            "0\n",
            "-2\n",
            "-4\n",
            "-6\n",
            "-8\n",
            "-10\n",
            "-12\n",
            "-14\n",
            "-16\n",
            "-18\n"
          ],
          "name": "stdout"
        }
      ]
    },
    {
      "cell_type": "code",
      "metadata": {
        "id": "e9rIhB_MwT7-",
        "colab_type": "code",
        "colab": {
          "base_uri": "https://localhost:8080/",
          "height": 68
        },
        "outputId": "a30859c5-26c1-47bc-fa98-ad5bdfb912c4"
      },
      "source": [
        "# Aqui temos uma lista de strings, e vamos usar a função len (abreviação de lenght - comprimento)\n",
        "# vai verificar o tamanho dessa variável.\n",
        "# Aqui, a partir do \"for\", nos tornamos dinamica a função, pois irá buscar não importa a qtd de valores\n",
        "# e sim a lista_tamanho como todo depois vamos imprimir os valores da lista.\n",
        "lista = ['Morango','Banana','Abacaxi']\n",
        "lista_tamanho = len(lista)\n",
        "for i in range(0, lista_tamanho):\n",
        "  print(lista[i])"
      ],
      "execution_count": null,
      "outputs": [
        {
          "output_type": "stream",
          "text": [
            "Morango\n",
            "Banana\n",
            "Abacaxi\n"
          ],
          "name": "stdout"
        }
      ]
    },
    {
      "cell_type": "code",
      "metadata": {
        "id": "rDLLSK0uwfgp",
        "colab_type": "code",
        "colab": {
          "base_uri": "https://localhost:8080/",
          "height": 34
        },
        "outputId": "83cc4e75-40d5-4f35-f1d0-ec1ed26a3a6f"
      },
      "source": [
        "#Tudo em Python é objeto\n",
        "type(range(0,3))"
      ],
      "execution_count": null,
      "outputs": [
        {
          "output_type": "execute_result",
          "data": {
            "text/plain": [
              "range"
            ]
          },
          "metadata": {
            "tags": []
          },
          "execution_count": 16
        }
      ]
    },
    {
      "cell_type": "markdown",
      "metadata": {
        "id": "u5K_0iXVMiX-",
        "colab_type": "text"
      },
      "source": [
        "# Exercícios Loop Condicional\n",
        "# Exercício 1 - Crie uma estrutura que pergunte ao usuário qual o dia da semana. Se o dia for igual a Domingo ou \n",
        "# igual a sábado, imprima na tela \"Hoje é dia de descanso\", caso contrário imprima na tela \"Você precisa trabalhar!\""
      ]
    },
    {
      "cell_type": "code",
      "metadata": {
        "id": "AGdXEXTBMqji",
        "colab_type": "code",
        "colab": {
          "base_uri": "https://localhost:8080/",
          "height": 51
        },
        "outputId": "831fff74-9eef-4663-8ed5-33372aeb2db7"
      },
      "source": [
        "# primeiro exercício concluído.\n",
        "# ressalvas: Eu queria ter criado uma lista, e quando o valor de entrada estivesse lá dentro, voltasse \"De volta ao trbalho\";\n",
        "# se não, \"Você pode descansar.\". Pra mim tem mais lógica, trabalhar com uma idéia binária neste caso.\n",
        "# Vou tentar fazê-lo abaixo.\n",
        "#FEITO#\n",
        "dia = input('Que dia é hoje?: ')\n",
        "if dia == 'sábado':\n",
        "  print('Você pode descansar!')\n",
        "elif dia == 'domingo':\n",
        "  print('Você pode descansar!')\n",
        "else: \n",
        "  print('De volta ao trabalho!')\n"
      ],
      "execution_count": null,
      "outputs": [
        {
          "output_type": "stream",
          "text": [
            "Que dia é hoje?: segun\n",
            "De volta ao trabalho!\n"
          ],
          "name": "stdout"
        }
      ]
    },
    {
      "cell_type": "code",
      "metadata": {
        "id": "y7rCXwP9PRqt",
        "colab_type": "code",
        "colab": {
          "base_uri": "https://localhost:8080/",
          "height": 51
        },
        "outputId": "7f6ef371-aec1-49ad-c4b3-b4c7b2e47f99"
      },
      "source": [
        "# Excelente! Consegui!\n",
        "# Vamos melhorar isso lá na frente, como a listagem dos dias da semana, em que só poderá aceitar o que estiver no range e valores permitidos\n",
        "# Aqui percebo também que a diferenciação entre maísculas e minusuclas, mesmo que sendo o mesmo conteúdo (sábado vs Sábado) causa diferença nos resultados.\n",
        "#FEITO#\n",
        "dia = input('Que dia é hoje?: ')\n",
        "lista = ['Sábado','Domingo']\n",
        "if dia in lista:\n",
        "  print('Você pode descansar champs!')\n",
        "else:\n",
        "  print('De volta ao trabalho campeão!')\n",
        "\n",
        "  #Solução proposta pela DSA\n",
        "  dia = input('Digite o dia da semana: ')\n",
        "if dia == 'Domingo' or dia == 'Sábado':\n",
        "    print(\"Hoje é dia de descanso\")\n",
        "else:\n",
        "    print(\"Você precisa trabalhar!\")"
      ],
      "execution_count": null,
      "outputs": [
        {
          "output_type": "stream",
          "text": [
            "Que dia é hoje?: sabado\n",
            "De volta ao trabalho campeão!\n"
          ],
          "name": "stdout"
        }
      ]
    },
    {
      "cell_type": "code",
      "metadata": {
        "id": "rs2DrTwDQCXe",
        "colab_type": "code",
        "colab": {
          "base_uri": "https://localhost:8080/",
          "height": 34
        },
        "outputId": "67cbf4a6-0582-4c81-cebe-c38b58793319"
      },
      "source": [
        "# Exercício 2 - Crie uma lista de 5 frutas e verifique se a fruta 'Morango' faz parte da lista\n",
        "\n",
        "lista = ('Banana','Maçã','Uva','Morango','Caqui')\n",
        "if 'Morango' in lista:\n",
        "  print('Sim, morango faz parte de sua lista')\n",
        "else: \n",
        "  print('Reveja seu código, morango não faz parte de sua lista')\n",
        "\n",
        "\n",
        "  #Solução da DSA\n",
        "# Exercício 2 - Crie uma lista de 5 frutas e verifique se a fruta 'Morango' faz parte da lista\n",
        "lista = ['Laranja', 'Maça', 'Abacaxi', 'Uva', 'Morango']\n",
        "for fruta in lista:\n",
        "    if fruta == 'Morango':\n",
        "        print(\"Morango faz parte da lista de frutas\")"
      ],
      "execution_count": null,
      "outputs": [
        {
          "output_type": "stream",
          "text": [
            "Sim, morango faz parte de sua lista\n"
          ],
          "name": "stdout"
        }
      ]
    },
    {
      "cell_type": "code",
      "metadata": {
        "id": "AfQQypjCS59r",
        "colab_type": "code",
        "colab": {
          "base_uri": "https://localhost:8080/",
          "height": 217
        },
        "outputId": "74810b3b-7cb1-4fdc-d186-358f00f7433c"
      },
      "source": [
        "# Exercício 3 - Crie uma tupla de 4 elementos, multiplique cada elemento da tupla por 2 e guarde os resultados em uma \n",
        "#Solução da DSA\n",
        "\n",
        "tup1 = (1, 2, 3, 4)\n",
        "lst1 = []\n",
        "for i in tup1:\n",
        "    novo_valor = i * 2\n",
        "    lst1.append(novo_valor)\n",
        "print(lst1)"
      ],
      "execution_count": null,
      "outputs": [
        {
          "output_type": "error",
          "ename": "TypeError",
          "evalue": "ignored",
          "traceback": [
            "\u001b[0;31m---------------------------------------------------------------------------\u001b[0m",
            "\u001b[0;31mTypeError\u001b[0m                                 Traceback (most recent call last)",
            "\u001b[0;32m<ipython-input-89-6db342e717ad>\u001b[0m in \u001b[0;36m<module>\u001b[0;34m()\u001b[0m\n\u001b[1;32m      1\u001b[0m \u001b[0;31m# Exercício 3 - Crie uma tupla de 4 elementos, multiplique cada elemento da tupla por 2 e guarde os resultados em uma\u001b[0m\u001b[0;34m\u001b[0m\u001b[0;34m\u001b[0m\u001b[0;34m\u001b[0m\u001b[0m\n\u001b[1;32m      2\u001b[0m \u001b[0mt1\u001b[0m \u001b[0;34m=\u001b[0m \u001b[0;34m(\u001b[0m\u001b[0;34m'1'\u001b[0m\u001b[0;34m,\u001b[0m\u001b[0;34m'2'\u001b[0m\u001b[0;34m,\u001b[0m\u001b[0;34m'3'\u001b[0m\u001b[0;34m,\u001b[0m\u001b[0;34m'4'\u001b[0m\u001b[0;34m)\u001b[0m\u001b[0;34m\u001b[0m\u001b[0;34m\u001b[0m\u001b[0m\n\u001b[0;32m----> 3\u001b[0;31m \u001b[0mt1\u001b[0m \u001b[0;34m=\u001b[0m \u001b[0mlista\u001b[0m\u001b[0;34m(\u001b[0m\u001b[0mt1\u001b[0m\u001b[0;34m)\u001b[0m\u001b[0;34m\u001b[0m\u001b[0;34m\u001b[0m\u001b[0m\n\u001b[0m",
            "\u001b[0;31mTypeError\u001b[0m: 'tuple' object is not callable"
          ]
        }
      ]
    },
    {
      "cell_type": "code",
      "metadata": {
        "id": "MdRZpdoXTayA",
        "colab_type": "code",
        "colab": {
          "base_uri": "https://localhost:8080/",
          "height": 459
        },
        "outputId": "d89e0e24-859d-4ab9-8d97-769ce5f06ace"
      },
      "source": [
        "# Exercício 4 - Crie uma sequência de números pares entre 100 e 150 e imprima na tela\n",
        "#FEITO#\n",
        "\n",
        "#Solução idêntica da DSA\n",
        "for i in range(100,151,2):\n",
        "  print(i)"
      ],
      "execution_count": null,
      "outputs": [
        {
          "output_type": "stream",
          "text": [
            "100\n",
            "102\n",
            "104\n",
            "106\n",
            "108\n",
            "110\n",
            "112\n",
            "114\n",
            "116\n",
            "118\n",
            "120\n",
            "122\n",
            "124\n",
            "126\n",
            "128\n",
            "130\n",
            "132\n",
            "134\n",
            "136\n",
            "138\n",
            "140\n",
            "142\n",
            "144\n",
            "146\n",
            "148\n",
            "150\n"
          ],
          "name": "stdout"
        }
      ]
    },
    {
      "cell_type": "code",
      "metadata": {
        "id": "7StDLhPFYCx7",
        "colab_type": "code",
        "colab": {
          "base_uri": "https://localhost:8080/",
          "height": 102
        },
        "outputId": "802881c1-e684-4592-f862-e94b78c970ba"
      },
      "source": [
        "# Exercício 5 - Crie uma variável chamada temperatura e atribua o valor 40. Enquanto temperatura for maior que 35, \n",
        "# imprima as temperaturas na tela\n",
        "# Aqui usei a lógica de exercícios passados, apenas substituindo valores e sinais. \n",
        "#FEITO#\n",
        "temperatura = 40\n",
        "while temperatura > 35:\n",
        "  print(temperatura)\n",
        "  temperatura = temperatura - 1\n",
        "\n",
        "#Solução idêntica a DSA"
      ],
      "execution_count": null,
      "outputs": [
        {
          "output_type": "stream",
          "text": [
            "40\n",
            "39\n",
            "38\n",
            "37\n",
            "36\n"
          ],
          "name": "stdout"
        }
      ]
    },
    {
      "cell_type": "code",
      "metadata": {
        "id": "HHYTA-NyYEPy",
        "colab_type": "code",
        "colab": {
          "base_uri": "https://localhost:8080/",
          "height": 408
        },
        "outputId": "0c7688b6-c0e8-4176-95d6-700f2e68516d"
      },
      "source": [
        "# Exercício 6 - Crie uma variável chamada contador = 0. Enquanto counter for menor que 100, imprima os valores na tela,\n",
        "# mas quando for encontrado o valor 23, interrompa a execução do programa\n",
        "#FEITO#\n",
        "\n",
        "contador = 0\n",
        "while contador < 100:\n",
        "  if contador == 23:\n",
        "    break\n",
        "  else: \n",
        "    pass\n",
        "  print(contador)\n",
        "  contador = contador + 1 \n",
        "\n",
        "#Solução proposta pela DSA\n",
        "contador = 0\n",
        "while contador < 100:\n",
        "    if contador == 23:\n",
        "        break\n",
        "    print(contador)\n",
        "    contador += 1\n",
        "\n"
      ],
      "execution_count": null,
      "outputs": [
        {
          "output_type": "stream",
          "text": [
            "0\n",
            "1\n",
            "2\n",
            "3\n",
            "4\n",
            "5\n",
            "6\n",
            "7\n",
            "8\n",
            "9\n",
            "10\n",
            "11\n",
            "12\n",
            "13\n",
            "14\n",
            "15\n",
            "16\n",
            "17\n",
            "18\n",
            "19\n",
            "20\n",
            "21\n",
            "22\n"
          ],
          "name": "stdout"
        }
      ]
    },
    {
      "cell_type": "code",
      "metadata": {
        "id": "IlOtjYmPYF3U",
        "colab_type": "code",
        "colab": {
          "base_uri": "https://localhost:8080/",
          "height": 153
        },
        "outputId": "4131a0f2-3a7e-4f8c-999f-adefc8e049dc"
      },
      "source": [
        "# Exercício 7 - Crie uma lista vazia e uma variável com valor 4. Enquanto o valor da variável for menor ou igual a 20, \n",
        "# adicione à lista, apenas os valores pares e imprima a lista\n",
        "var1 = 4\n",
        "while var1 <= 19:\n",
        "  var1 = var1 + 2\n",
        "  print(var1)\n",
        "\n",
        "#Solução proposta pela DSA\n",
        "numeros = list()\n",
        "i = 4\n",
        "while (i <= 20):\n",
        "    numeros.append(i)\n",
        "    i = i+2\n",
        "print(numeros)\n",
        "  "
      ],
      "execution_count": null,
      "outputs": [
        {
          "output_type": "stream",
          "text": [
            "6\n",
            "8\n",
            "10\n",
            "12\n",
            "14\n",
            "16\n",
            "18\n",
            "20\n"
          ],
          "name": "stdout"
        }
      ]
    },
    {
      "cell_type": "code",
      "metadata": {
        "id": "WoAz5IbbYHb7",
        "colab_type": "code",
        "colab": {
          "base_uri": "https://localhost:8080/",
          "height": 180
        },
        "outputId": "99ee071e-6949-4185-f887-5d4c8dbb0522"
      },
      "source": [
        "# Exercício 8 - Transforme o resultado desta função range em uma lista: range(5, 45, 2)\n",
        "nums = range(5, 45, 2)\n",
        "print(list(nums))\n"
      ],
      "execution_count": null,
      "outputs": [
        {
          "output_type": "error",
          "ename": "TypeError",
          "evalue": "ignored",
          "traceback": [
            "\u001b[0;31m---------------------------------------------------------------------------\u001b[0m",
            "\u001b[0;31mTypeError\u001b[0m                                 Traceback (most recent call last)",
            "\u001b[0;32m<ipython-input-138-983a65cd5a92>\u001b[0m in \u001b[0;36m<module>\u001b[0;34m()\u001b[0m\n\u001b[1;32m      1\u001b[0m \u001b[0;31m# Exercício 8 - Transforme o resultado desta função range em uma lista: range(5, 45, 2)\u001b[0m\u001b[0;34m\u001b[0m\u001b[0;34m\u001b[0m\u001b[0;34m\u001b[0m\u001b[0m\n\u001b[0;32m----> 2\u001b[0;31m \u001b[0mnums\u001b[0m \u001b[0;34m=\u001b[0m \u001b[0mrange\u001b[0m\u001b[0;34m(\u001b[0m\u001b[0;36m5\u001b[0m\u001b[0;34m,\u001b[0m \u001b[0;36m45\u001b[0m\u001b[0;34m,\u001b[0m \u001b[0;36m2\u001b[0m\u001b[0;34m)\u001b[0m\u001b[0;34m\u001b[0m\u001b[0;34m\u001b[0m\u001b[0m\n\u001b[0m",
            "\u001b[0;31mTypeError\u001b[0m: 'str' object is not callable"
          ]
        }
      ]
    },
    {
      "cell_type": "code",
      "metadata": {
        "id": "TV_aRqG8YJ8t",
        "colab_type": "code",
        "colab": {
          "base_uri": "https://localhost:8080/",
          "height": 51
        },
        "outputId": "f596b434-7642-47b7-e1a6-d5b8349190ee"
      },
      "source": [
        "# Exercício 9 - Faça a correção dos erros no código abaixo e execute o programa. Dica: são 3 erros.\n",
        "temperatura = float(input('Qual a temperatura? '))\n",
        "if temperatura > 30:\n",
        "  print('Vista roupas leves.')\n",
        "else:\n",
        "  print('Busque seus casacos.')\n",
        "\n",
        "  #FEITO# Correção feita corretamente."
      ],
      "execution_count": null,
      "outputs": [
        {
          "output_type": "stream",
          "text": [
            "Qual a temperatura? 32\n",
            "Vista roupas leves.\n"
          ],
          "name": "stdout"
        }
      ]
    },
    {
      "cell_type": "code",
      "metadata": {
        "id": "Ou_VLpMTYMos",
        "colab_type": "code",
        "colab": {
          "base_uri": "https://localhost:8080/",
          "height": 34
        },
        "outputId": "9197a692-36e1-4d68-bb8e-7fc1163258b5"
      },
      "source": [
        "# Exercício 10 - Faça um programa que conte quantas vezes a letra \"r\" aparece na frase abaixo. Use um placeholder na \n",
        "# sua instrução de impressão\n",
        "\n",
        "# “É melhor, muito melhor, contentar-se com a realidade; se ela não é tão brilhante como os sonhos, tem pelo menos a \n",
        "# vantagem de existir.” (Machado de Assis)\n",
        "\n",
        "frase = \"É melhor, muito melhor, contentar-se com a realidade; se ela não é tão brilhante como os sonhos, tem pelo menos a vantagem de existir.\"\n",
        "count = 0\n",
        "for caracter in frase:\n",
        "    if caracter == 'r':\n",
        "        count += 1\n",
        "print(\"O caracter r aparece %s vezes na frase.\" %(count))"
      ],
      "execution_count": null,
      "outputs": [
        {
          "output_type": "stream",
          "text": [
            "O caracter r aparece 6 vezes na frase.\n"
          ],
          "name": "stdout"
        }
      ]
    },
    {
      "cell_type": "markdown",
      "metadata": {
        "id": "0qpwA2J1yYik",
        "colab_type": "text"
      },
      "source": [
        "# Métodos e Funções"
      ]
    },
    {
      "cell_type": "code",
      "metadata": {
        "id": "IK2UjNgGycq1",
        "colab_type": "code",
        "colab": {}
      },
      "source": [
        "lst = [100, -2, 12, 65, 0]"
      ],
      "execution_count": 1,
      "outputs": []
    },
    {
      "cell_type": "code",
      "metadata": {
        "id": "tAAhSTx-ysk4",
        "colab_type": "code",
        "colab": {
          "base_uri": "https://localhost:8080/",
          "height": 34
        },
        "outputId": "a4deb3d0-8022-4b1d-c71d-7ead76bb04da"
      },
      "source": [
        "lst"
      ],
      "execution_count": 2,
      "outputs": [
        {
          "output_type": "execute_result",
          "data": {
            "text/plain": [
              "[100, -2, 12, 65, 0]"
            ]
          },
          "metadata": {
            "tags": []
          },
          "execution_count": 2
        }
      ]
    },
    {
      "cell_type": "code",
      "metadata": {
        "id": "vgHUPno9zFxR",
        "colab_type": "code",
        "colab": {}
      },
      "source": [
        "lst.append(10)"
      ],
      "execution_count": 4,
      "outputs": []
    },
    {
      "cell_type": "code",
      "metadata": {
        "id": "Eg7uxOOCzK71",
        "colab_type": "code",
        "colab": {
          "base_uri": "https://localhost:8080/",
          "height": 34
        },
        "outputId": "eb81c659-4cfe-475f-fcdb-1b2e490b90ae"
      },
      "source": [
        "lst"
      ],
      "execution_count": 5,
      "outputs": [
        {
          "output_type": "execute_result",
          "data": {
            "text/plain": [
              "[100, -2, 12, 65, 0, 10]"
            ]
          },
          "metadata": {
            "tags": []
          },
          "execution_count": 5
        }
      ]
    },
    {
      "cell_type": "code",
      "metadata": {
        "id": "4QXcAiZhzM4k",
        "colab_type": "code",
        "colab": {
          "base_uri": "https://localhost:8080/",
          "height": 34
        },
        "outputId": "89bcedfe-3dba-47e1-ccd8-985ebd57be69"
      },
      "source": [
        "lst.clear"
      ],
      "execution_count": 6,
      "outputs": [
        {
          "output_type": "execute_result",
          "data": {
            "text/plain": [
              "<function list.clear>"
            ]
          },
          "metadata": {
            "tags": []
          },
          "execution_count": 6
        }
      ]
    },
    {
      "cell_type": "code",
      "metadata": {
        "id": "2kG1Ldn8zPPy",
        "colab_type": "code",
        "colab": {}
      },
      "source": [
        "#Remove um elemento \"X\"\n",
        "lst.remove(0)"
      ],
      "execution_count": 9,
      "outputs": []
    },
    {
      "cell_type": "code",
      "metadata": {
        "id": "IuMObU8lzP92",
        "colab_type": "code",
        "colab": {
          "base_uri": "https://localhost:8080/",
          "height": 34
        },
        "outputId": "3f996a18-e761-4538-d782-a4e18a4856e7"
      },
      "source": [
        "lst"
      ],
      "execution_count": 10,
      "outputs": [
        {
          "output_type": "execute_result",
          "data": {
            "text/plain": [
              "[100, -2, 12, 65, 10]"
            ]
          },
          "metadata": {
            "tags": []
          },
          "execution_count": 10
        }
      ]
    },
    {
      "cell_type": "code",
      "metadata": {
        "id": "-9Po-_5UzWbR",
        "colab_type": "code",
        "colab": {}
      },
      "source": [
        "lst.append(0)"
      ],
      "execution_count": 11,
      "outputs": []
    },
    {
      "cell_type": "code",
      "metadata": {
        "id": "wNuV7CKnzZzY",
        "colab_type": "code",
        "colab": {
          "base_uri": "https://localhost:8080/",
          "height": 34
        },
        "outputId": "d73bcd62-dfdf-474c-f9f2-88afb1ec5fca"
      },
      "source": [
        "lst"
      ],
      "execution_count": 12,
      "outputs": [
        {
          "output_type": "execute_result",
          "data": {
            "text/plain": [
              "[100, -2, 12, 65, 10, 0]"
            ]
          },
          "metadata": {
            "tags": []
          },
          "execution_count": 12
        }
      ]
    },
    {
      "cell_type": "code",
      "metadata": {
        "id": "OnyRwnewzae5",
        "colab_type": "code",
        "colab": {
          "base_uri": "https://localhost:8080/",
          "height": 34
        },
        "outputId": "2ca788c4-cbb6-4c63-b2d0-c133c1b6d197"
      },
      "source": [
        "#Identifica quantos valores \"X\" existem na lista.\n",
        "lst.count(10)"
      ],
      "execution_count": 13,
      "outputs": [
        {
          "output_type": "execute_result",
          "data": {
            "text/plain": [
              "1"
            ]
          },
          "metadata": {
            "tags": []
          },
          "execution_count": 13
        }
      ]
    },
    {
      "cell_type": "code",
      "metadata": {
        "id": "mK08GiQ6zdCa",
        "colab_type": "code",
        "colab": {
          "base_uri": "https://localhost:8080/",
          "height": 102
        },
        "outputId": "663e146e-9d10-410e-d26e-593898ae056c"
      },
      "source": [
        "#A função help() explica como utlizar cada método de um objeto\n",
        "help(lst.count)"
      ],
      "execution_count": 14,
      "outputs": [
        {
          "output_type": "stream",
          "text": [
            "Help on built-in function count:\n",
            "\n",
            "count(...) method of builtins.list instance\n",
            "    L.count(value) -> integer -- return number of occurrences of value\n",
            "\n"
          ],
          "name": "stdout"
        }
      ]
    },
    {
      "cell_type": "code",
      "metadata": {
        "id": "gAP6_hMJzrdb",
        "colab_type": "code",
        "colab": {
          "base_uri": "https://localhost:8080/",
          "height": 799
        },
        "outputId": "c0c5f351-6453-4114-e921-00f683f69758"
      },
      "source": [
        "#DIR tem a mesma função dos prompt's. \n",
        "dir(lst)"
      ],
      "execution_count": 15,
      "outputs": [
        {
          "output_type": "execute_result",
          "data": {
            "text/plain": [
              "['__add__',\n",
              " '__class__',\n",
              " '__contains__',\n",
              " '__delattr__',\n",
              " '__delitem__',\n",
              " '__dir__',\n",
              " '__doc__',\n",
              " '__eq__',\n",
              " '__format__',\n",
              " '__ge__',\n",
              " '__getattribute__',\n",
              " '__getitem__',\n",
              " '__gt__',\n",
              " '__hash__',\n",
              " '__iadd__',\n",
              " '__imul__',\n",
              " '__init__',\n",
              " '__init_subclass__',\n",
              " '__iter__',\n",
              " '__le__',\n",
              " '__len__',\n",
              " '__lt__',\n",
              " '__mul__',\n",
              " '__ne__',\n",
              " '__new__',\n",
              " '__reduce__',\n",
              " '__reduce_ex__',\n",
              " '__repr__',\n",
              " '__reversed__',\n",
              " '__rmul__',\n",
              " '__setattr__',\n",
              " '__setitem__',\n",
              " '__sizeof__',\n",
              " '__str__',\n",
              " '__subclasshook__',\n",
              " 'append',\n",
              " 'clear',\n",
              " 'copy',\n",
              " 'count',\n",
              " 'extend',\n",
              " 'index',\n",
              " 'insert',\n",
              " 'pop',\n",
              " 'remove',\n",
              " 'reverse',\n",
              " 'sort']"
            ]
          },
          "metadata": {
            "tags": []
          },
          "execution_count": 15
        }
      ]
    },
    {
      "cell_type": "code",
      "metadata": {
        "id": "Sl60jOwV0XQR",
        "colab_type": "code",
        "colab": {}
      },
      "source": [
        "a = 'Isso é uma string'"
      ],
      "execution_count": 18,
      "outputs": []
    },
    {
      "cell_type": "code",
      "metadata": {
        "id": "tumoG801z9ee",
        "colab_type": "code",
        "colab": {
          "base_uri": "https://localhost:8080/",
          "height": 34
        },
        "outputId": "735c5b7b-8704-46d5-d6dd-f8af49be90a8"
      },
      "source": [
        "#O método de um objeto pode ser chamado dentro de uma função, como print()\n",
        "print (a.split())"
      ],
      "execution_count": 19,
      "outputs": [
        {
          "output_type": "stream",
          "text": [
            "['Isso', 'é', 'uma', 'string']\n"
          ],
          "name": "stdout"
        }
      ]
    },
    {
      "cell_type": "code",
      "metadata": {
        "id": "OE6MeZ520QJf",
        "colab_type": "code",
        "colab": {}
      },
      "source": [
        ""
      ],
      "execution_count": null,
      "outputs": []
    }
  ]
}