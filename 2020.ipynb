{
  "nbformat": 4,
  "nbformat_minor": 0,
  "metadata": {
    "colab": {
      "name": "DSA - Python, Cap03 - Estruturas Condicionais.ipynb",
      "provenance": [],
      "toc_visible": true,
      "authorship_tag": "ABX9TyMgj8trA24V1c2FPiFrb8QA",
      "include_colab_link": true
    },
    "kernelspec": {
      "name": "python3",
      "display_name": "Python 3"
    }
  },
  "cells": [
    {
      "cell_type": "markdown",
      "metadata": {
        "id": "view-in-github",
        "colab_type": "text"
      },
      "source": [
        "<a href=\"https://colab.research.google.com/github/Rodcbatista/Codenation-Projetct/blob/master/DSA_Python%2C_Cap03_Estruturas_Condicionais%2015/06/2020.ipynb\" target=\"_parent\"><img src=\"https://colab.research.google.com/assets/colab-badge.svg\" alt=\"Open In Colab\"/></a>"
      ]
    },
    {
      "cell_type": "markdown",
      "metadata": {
        "id": "t2F2-LqbUv2N",
        "colab_type": "text"
      },
      "source": [
        "Condicional If"
      ]
    },
    {
      "cell_type": "code",
      "metadata": {
        "id": "BECC3HXmU8YN",
        "colab_type": "code",
        "outputId": "faf3cebd-dffb-47de-c994-97f41c7cf5f5",
        "colab": {
          "base_uri": "https://localhost:8080/",
          "height": 34
        }
      },
      "source": [
        "#Condicional If \n",
        "if 5>2:\n",
        "  print(\"Python é top!\")"
      ],
      "execution_count": 0,
      "outputs": [
        {
          "output_type": "stream",
          "text": [
            "Python é top!\n"
          ],
          "name": "stdout"
        }
      ]
    },
    {
      "cell_type": "code",
      "metadata": {
        "id": "fZ7iGZhJVEho",
        "colab_type": "code",
        "outputId": "a3e210fb-4a01-4090-c1fe-687a2308dbd1",
        "colab": {
          "base_uri": "https://localhost:8080/",
          "height": 34
        }
      },
      "source": [
        "#If and Else\n",
        "if 5<2:\n",
        "  print(\"Python é top!\")\n",
        "else: \n",
        "  print(\"Not working!\")"
      ],
      "execution_count": 0,
      "outputs": [
        {
          "output_type": "stream",
          "text": [
            "Not working!\n"
          ],
          "name": "stdout"
        }
      ]
    },
    {
      "cell_type": "code",
      "metadata": {
        "id": "htui7sw5UkqI",
        "colab_type": "code",
        "outputId": "8bd54457-a78d-4f61-97c4-d03696bf5777",
        "colab": {
          "base_uri": "https://localhost:8080/",
          "height": 34
        }
      },
      "source": [
        "6 > 3"
      ],
      "execution_count": 0,
      "outputs": [
        {
          "output_type": "execute_result",
          "data": {
            "text/plain": [
              "True"
            ]
          },
          "metadata": {
            "tags": []
          },
          "execution_count": 3
        }
      ]
    },
    {
      "cell_type": "code",
      "metadata": {
        "id": "1MlBaU2-VlIQ",
        "colab_type": "code",
        "outputId": "754db90c-fc62-498b-c6f1-7a74c156531d",
        "colab": {
          "base_uri": "https://localhost:8080/",
          "height": 34
        }
      },
      "source": [
        "5 > 9"
      ],
      "execution_count": 0,
      "outputs": [
        {
          "output_type": "execute_result",
          "data": {
            "text/plain": [
              "False"
            ]
          },
          "metadata": {
            "tags": []
          },
          "execution_count": 4
        }
      ]
    },
    {
      "cell_type": "code",
      "metadata": {
        "id": "VXO42mbtVmQ6",
        "colab_type": "code",
        "outputId": "2115621e-fed2-42ba-a986-237b3d9035ff",
        "colab": {
          "base_uri": "https://localhost:8080/",
          "height": 34
        }
      },
      "source": [
        "9 < 5"
      ],
      "execution_count": 0,
      "outputs": [
        {
          "output_type": "execute_result",
          "data": {
            "text/plain": [
              "False"
            ]
          },
          "metadata": {
            "tags": []
          },
          "execution_count": 5
        }
      ]
    },
    {
      "cell_type": "code",
      "metadata": {
        "id": "46Y1cFPEVoGa",
        "colab_type": "code",
        "outputId": "5928fc74-5cae-40f1-e0f6-5967e55d2f98",
        "colab": {
          "base_uri": "https://localhost:8080/",
          "height": 34
        }
      },
      "source": [
        "2 > 1"
      ],
      "execution_count": 0,
      "outputs": [
        {
          "output_type": "execute_result",
          "data": {
            "text/plain": [
              "True"
            ]
          },
          "metadata": {
            "tags": []
          },
          "execution_count": 6
        }
      ]
    },
    {
      "cell_type": "code",
      "metadata": {
        "id": "Qte-CbIDVp95",
        "colab_type": "code",
        "outputId": "49b69f71-e107-4712-d76b-d2ebf7c53559",
        "colab": {
          "base_uri": "https://localhost:8080/",
          "height": 34
        }
      },
      "source": [
        "if 5 == 5:\n",
        "  print(\"Nice job!\")\n",
        "else:\n",
        "  print(\"Not working!!!\")"
      ],
      "execution_count": 0,
      "outputs": [
        {
          "output_type": "stream",
          "text": [
            "Nice job!\n"
          ],
          "name": "stdout"
        }
      ]
    },
    {
      "cell_type": "code",
      "metadata": {
        "id": "jeIwpotpVzjn",
        "colab_type": "code",
        "outputId": "63bbe087-6b01-4ced-99b1-48aa02ec42d2",
        "colab": {
          "base_uri": "https://localhost:8080/",
          "height": 34
        }
      },
      "source": [
        "if True:\n",
        "  print(\"É, tudo está okay :D\")"
      ],
      "execution_count": 0,
      "outputs": [
        {
          "output_type": "stream",
          "text": [
            "É, tudo está okay :D\n"
          ],
          "name": "stdout"
        }
      ]
    },
    {
      "cell_type": "code",
      "metadata": {
        "id": "2qjPh9sGXPet",
        "colab_type": "code",
        "outputId": "d8988598-8af8-442f-baf3-ed93d3a53d40",
        "colab": {
          "base_uri": "https://localhost:8080/",
          "height": 129
        }
      },
      "source": [
        "# Atenção com a sintaxe \n",
        "if 4 < 2\n",
        "  print(\"Error test\")"
      ],
      "execution_count": 0,
      "outputs": [
        {
          "output_type": "error",
          "ename": "SyntaxError",
          "evalue": "ignored",
          "traceback": [
            "\u001b[0;36m  File \u001b[0;32m\"<ipython-input-9-4a05e2e30cd9>\"\u001b[0;36m, line \u001b[0;32m2\u001b[0m\n\u001b[0;31m    if 4 < 2\u001b[0m\n\u001b[0m            ^\u001b[0m\n\u001b[0;31mSyntaxError\u001b[0m\u001b[0;31m:\u001b[0m invalid syntax\n"
          ]
        }
      ]
    },
    {
      "cell_type": "code",
      "metadata": {
        "id": "0ome5Ny0XYbF",
        "colab_type": "code",
        "colab": {}
      },
      "source": [
        "# Atenção com a sintaxe\n",
        "if 4<2:\n",
        "print(\"Lalele\")"
      ],
      "execution_count": 0,
      "outputs": []
    },
    {
      "cell_type": "markdown",
      "metadata": {
        "id": "Mj6jU2yQXuVm",
        "colab_type": "text"
      },
      "source": [
        "# Condicionais Aninhadas"
      ]
    },
    {
      "cell_type": "code",
      "metadata": {
        "id": "mVCO2EByXywW",
        "colab_type": "code",
        "outputId": "d94b117b-a4a8-47cb-85fe-f2cd7ec54eff",
        "colab": {
          "base_uri": "https://localhost:8080/",
          "height": 34
        }
      },
      "source": [
        "idade = 18\n",
        "if idade > 17:\n",
        "  print(\"Vá a auto-escola o mais rapido que puder!\")"
      ],
      "execution_count": 0,
      "outputs": [
        {
          "output_type": "stream",
          "text": [
            "Vá a auto-escola o mais rapido que puder!\n"
          ],
          "name": "stdout"
        }
      ]
    },
    {
      "cell_type": "code",
      "metadata": {
        "id": "WGWVf1y9X9hi",
        "colab_type": "code",
        "outputId": "dcf51c17-4582-4fe9-ca9d-1d3759daf711",
        "colab": {
          "base_uri": "https://localhost:8080/",
          "height": 34
        }
      },
      "source": [
        "nome = \"Bob\"\n",
        "if idade > 13: \n",
        "  if nome == \"Bob\":\n",
        "    print(\"Ok Bob, você pode entrar.\")\n",
        "  else:\n",
        "    print(\"Is that you maaan?\")"
      ],
      "execution_count": 0,
      "outputs": [
        {
          "output_type": "stream",
          "text": [
            "Ok Bob, você pode entrar.\n"
          ],
          "name": "stdout"
        }
      ]
    },
    {
      "cell_type": "code",
      "metadata": {
        "id": "kYkXSLhDYSzH",
        "colab_type": "code",
        "outputId": "bde3ee51-e00e-456c-e719-1621e2a80d77",
        "colab": {
          "base_uri": "https://localhost:8080/",
          "height": 34
        }
      },
      "source": [
        "idade = 13\n",
        "nome = \"Bob\"\n",
        "if idade >= 13 and nome == \"Bob\":\n",
        "  print(\"Show Bob! Você deve entrar!\")"
      ],
      "execution_count": 0,
      "outputs": [
        {
          "output_type": "stream",
          "text": [
            "Show Bob! Você deve entrar!\n"
          ],
          "name": "stdout"
        }
      ]
    },
    {
      "cell_type": "code",
      "metadata": {
        "id": "qaluD1mXYlVA",
        "colab_type": "code",
        "outputId": "d5771523-b90a-4e3c-ccf1-1d867a177694",
        "colab": {
          "base_uri": "https://localhost:8080/",
          "height": 34
        }
      },
      "source": [
        "idade = 12 \n",
        "nome = \"Bob\"\n",
        "if (idade >=13) or (nome == \"Bob\"):\n",
        "  print(\"Ok Bob, let's go!\")"
      ],
      "execution_count": 0,
      "outputs": [
        {
          "output_type": "stream",
          "text": [
            "Ok Bob, let's go!\n"
          ],
          "name": "stdout"
        }
      ]
    },
    {
      "cell_type": "markdown",
      "metadata": {
        "id": "oLrjl5qfZzoF",
        "colab_type": "text"
      },
      "source": [
        "# Elif"
      ]
    },
    {
      "cell_type": "code",
      "metadata": {
        "id": "BF5nzQwdZ1jy",
        "colab_type": "code",
        "outputId": "da6a30bb-46df-4738-f83f-0a0c6957ff5a",
        "colab": {
          "base_uri": "https://localhost:8080/",
          "height": 34
        }
      },
      "source": [
        "dia = \"Quinta\"\n",
        "if dia == \"Segunda\":\n",
        "  print(\"Hoje fará sol\")\n",
        "else:\n",
        "  print(\"Vamos à previsão do tempo\")"
      ],
      "execution_count": 0,
      "outputs": [
        {
          "output_type": "stream",
          "text": [
            "Vamos à previsão do tempo\n"
          ],
          "name": "stdout"
        }
      ]
    },
    {
      "cell_type": "code",
      "metadata": {
        "id": "7TnmYOt8aEgi",
        "colab_type": "code",
        "outputId": "3849f197-285f-4a5c-d746-c2efd23052c7",
        "colab": {
          "base_uri": "https://localhost:8080/",
          "height": 34
        }
      },
      "source": [
        "if dia == \"Segunda\":\n",
        "  print(\"Hoje fará sol\")\n",
        "elif dia == \"Terça\":\n",
        "  print(\"Hoje o tempo ficará nublado\")\n",
        "elif dia == \"Quarta\":\n",
        "  print(\"Hoje não temos previsão\")\n",
        "elif dia == \"Quinta\":\n",
        "  print(\"Hoje fará sol com pancadas de chuva isolada\")\n",
        "else:\n",
        "  print(\"Vamos acampar!!!!\")"
      ],
      "execution_count": 0,
      "outputs": [
        {
          "output_type": "stream",
          "text": [
            "Hoje fará sol com pancadas de chuva isolada\n"
          ],
          "name": "stdout"
        }
      ]
    },
    {
      "cell_type": "markdown",
      "metadata": {
        "id": "B0azEA23bxno",
        "colab_type": "text"
      },
      "source": [
        "# Operadores lógicos"
      ]
    },
    {
      "cell_type": "code",
      "metadata": {
        "id": "R8652jc5el33",
        "colab_type": "code",
        "outputId": "29d9616f-f62f-4270-8944-783b3c1a63b5",
        "colab": {
          "base_uri": "https://localhost:8080/",
          "height": 85
        }
      },
      "source": [
        "# Usando mais de uma condição na cláusula if\n",
        "\n",
        "disciplina = input('Digite o nome da matéria: ')\n",
        "nota_finaln1 = input('Digite a nota da N1 (entre 0 e 10): ')\n",
        "nota_finaln2 = input('Digite a nota da N2 (entre 0 e 10): ')\n",
        "media_final = float(nota_finaln1 + nota_finaln2)/2\n",
        "\n",
        "if disciplina == 'Matemática' and media_final >= 7:\n",
        "  print('Você foi aprovado!')\n",
        "else:\n",
        "  print('Você não atingiu a média, gentileza procurar a secretaria.')"
      ],
      "execution_count": 0,
      "outputs": [
        {
          "output_type": "stream",
          "text": [
            "Digite o nome da matéria: Matemática\n",
            "Digite a nota da N1 (entre 0 e 10): 8\n",
            "Digite a nota da N2 (entre 0 e 10): 9\n",
            "Você foi aprovado!\n"
          ],
          "name": "stdout"
        }
      ]
    },
    {
      "cell_type": "code",
      "metadata": {
        "id": "Iy7rHFsunB90",
        "colab_type": "code",
        "outputId": "2c8be3ce-8fd2-48ee-a2b5-df16a4bc6e2c",
        "colab": {
          "base_uri": "https://localhost:8080/",
          "height": 85
        }
      },
      "source": [
        "# Usando mais de uma condição na cláusula if e incluindo Placeholders\n",
        "# Quando o Python encontrar o primeiro percent, ele inputará e assim consecutivamente. (%s, r%)\n",
        "disciplina = input('Digita a matéria: ')\n",
        "nota_final = input('Digite a nota (entre 0 e 10): ')\n",
        "semestre = input('Digite o período (1° ao 6° bimestre): ')\n",
        "\n",
        "if disciplina == 'Matemática' and nota_final >= '5' and int(semestre) != 1:\n",
        "  print('Você foi aprovado em %s com média final %r!' % (disciplina, nota_final))\n",
        "else: \n",
        "  print('Não foi dessa vez, mas não desanime! Estude mais!')"
      ],
      "execution_count": 0,
      "outputs": [
        {
          "output_type": "stream",
          "text": [
            "Digita a matéria: Matemática\n",
            "Digite a nota (entre 0 e 10): 4\n",
            "Digite o período (1° ao 6° bimestre): 2\n",
            "Não foi dessa vez, mas não desanime! Estude mais!\n"
          ],
          "name": "stdout"
        }
      ]
    },
    {
      "cell_type": "code",
      "metadata": {
        "id": "Cvo5cpJzqlIq",
        "colab_type": "code",
        "colab": {}
      },
      "source": [
        ""
      ],
      "execution_count": 0,
      "outputs": []
    },
    {
      "cell_type": "markdown",
      "metadata": {
        "id": "BB-nC3B0sFDN",
        "colab_type": "text"
      },
      "source": [
        "# Loop For"
      ]
    },
    {
      "cell_type": "code",
      "metadata": {
        "id": "RB1w1zLjsIXl",
        "colab_type": "code",
        "outputId": "66961fae-b1f2-41b4-884a-f956baf30a7f",
        "colab": {
          "base_uri": "https://localhost:8080/",
          "height": 68
        }
      },
      "source": [
        "# Criando uma tupla e imprimindo cada um dos valores\n",
        "# Tupla = () Parênteses\n",
        "tp = (2,3,4)\n",
        "for i in tp:\n",
        "  print(i)"
      ],
      "execution_count": 0,
      "outputs": [
        {
          "output_type": "stream",
          "text": [
            "2\n",
            "3\n",
            "4\n"
          ],
          "name": "stdout"
        }
      ]
    },
    {
      "cell_type": "code",
      "metadata": {
        "id": "nhF15BettY6M",
        "colab_type": "code",
        "outputId": "a073133e-ba2c-47c7-c777-6938f27f4108",
        "colab": {
          "base_uri": "https://localhost:8080/",
          "height": 85
        }
      },
      "source": [
        "# Criando uma lista e imprimindo cada um dos valores\n",
        "# Listas = [] Colchetes\n",
        "listadomercado = [\"leite\",\"maca\",\"ovos\",\"pão integral\"]\n",
        "for i in listadomercado:\n",
        "    print(i)"
      ],
      "execution_count": 0,
      "outputs": [
        {
          "output_type": "stream",
          "text": [
            "leite\n",
            "maca\n",
            "ovos\n",
            "pão integral\n"
          ],
          "name": "stdout"
        }
      ]
    },
    {
      "cell_type": "code",
      "metadata": {
        "id": "v2I0v8TKuNDz",
        "colab_type": "code",
        "outputId": "faed8723-f1c3-43fa-de51-440be8bd836d",
        "colab": {
          "base_uri": "https://localhost:8080/",
          "height": 102
        }
      },
      "source": [
        "# imprimindo os valores no intervalo entre 0 e 5 (exclusive)\n",
        "for contador in range(0,5):\n",
        "    print(contador)"
      ],
      "execution_count": 0,
      "outputs": [
        {
          "output_type": "stream",
          "text": [
            "0\n",
            "1\n",
            "2\n",
            "3\n",
            "4\n"
          ],
          "name": "stdout"
        }
      ]
    },
    {
      "cell_type": "code",
      "metadata": {
        "id": "yJNlnBxavUHx",
        "colab_type": "code",
        "outputId": "17b4c2c0-d55e-4a03-afdd-40ab9ee5e1b2",
        "colab": {
          "base_uri": "https://localhost:8080/",
          "height": 102
        }
      },
      "source": [
        "# Imprimindo na tela os números pares da lista de números\n",
        "lista = [1,2,3,4,5,6,7,8,9,10]\n",
        "for num in lista:\n",
        "  if num % 2 == 0:\n",
        "    print(num)"
      ],
      "execution_count": 0,
      "outputs": [
        {
          "output_type": "stream",
          "text": [
            "2\n",
            "4\n",
            "6\n",
            "8\n",
            "10\n"
          ],
          "name": "stdout"
        }
      ]
    },
    {
      "cell_type": "code",
      "metadata": {
        "id": "5010s3WQuZTU",
        "colab_type": "code",
        "outputId": "ef8073f0-f3b1-4367-d2c2-b06a5edf156d",
        "colab": {
          "base_uri": "https://localhost:8080/",
          "height": 884
        }
      },
      "source": [
        "# listando os números no intervalo entre 0 e 101, com incremento de 2\n",
        "for i in range (0,101,2):\n",
        "  print(i)"
      ],
      "execution_count": 0,
      "outputs": [
        {
          "output_type": "stream",
          "text": [
            "0\n",
            "2\n",
            "4\n",
            "6\n",
            "8\n",
            "10\n",
            "12\n",
            "14\n",
            "16\n",
            "18\n",
            "20\n",
            "22\n",
            "24\n",
            "26\n",
            "28\n",
            "30\n",
            "32\n",
            "34\n",
            "36\n",
            "38\n",
            "40\n",
            "42\n",
            "44\n",
            "46\n",
            "48\n",
            "50\n",
            "52\n",
            "54\n",
            "56\n",
            "58\n",
            "60\n",
            "62\n",
            "64\n",
            "66\n",
            "68\n",
            "70\n",
            "72\n",
            "74\n",
            "76\n",
            "78\n",
            "80\n",
            "82\n",
            "84\n",
            "86\n",
            "88\n",
            "90\n",
            "92\n",
            "94\n",
            "96\n",
            "98\n",
            "100\n"
          ],
          "name": "stdout"
        }
      ]
    },
    {
      "cell_type": "code",
      "metadata": {
        "id": "j4AOUQCoyAkK",
        "colab_type": "code",
        "outputId": "24ff3669-4bfc-45ea-a10d-6a44c26b3259",
        "colab": {
          "base_uri": "https://localhost:8080/",
          "height": 850
        }
      },
      "source": [
        "# Strings também são sequências\n",
        "for caracter in 'Python é uma linguagem essencial na década atual!':\n",
        "  print(caracter)"
      ],
      "execution_count": 0,
      "outputs": [
        {
          "output_type": "stream",
          "text": [
            "P\n",
            "y\n",
            "t\n",
            "h\n",
            "o\n",
            "n\n",
            " \n",
            "é\n",
            " \n",
            "u\n",
            "m\n",
            "a\n",
            " \n",
            "l\n",
            "i\n",
            "n\n",
            "g\n",
            "u\n",
            "a\n",
            "g\n",
            "e\n",
            "m\n",
            " \n",
            "e\n",
            "s\n",
            "s\n",
            "e\n",
            "n\n",
            "c\n",
            "i\n",
            "a\n",
            "l\n",
            " \n",
            "n\n",
            "a\n",
            " \n",
            "d\n",
            "é\n",
            "c\n",
            "a\n",
            "d\n",
            "a\n",
            " \n",
            "a\n",
            "t\n",
            "u\n",
            "a\n",
            "l\n",
            "!\n"
          ],
          "name": "stdout"
        }
      ]
    },
    {
      "cell_type": "markdown",
      "metadata": {
        "id": "ys898jcGX7NK",
        "colab_type": "text"
      },
      "source": [
        "# Loops Aninhados"
      ]
    },
    {
      "cell_type": "code",
      "metadata": {
        "id": "CcF1cZtLyTUh",
        "colab_type": "code",
        "colab": {
          "base_uri": "https://localhost:8080/",
          "height": 527
        },
        "outputId": "f935b2e3-a1c7-47f7-b81c-2912aa286adb"
      },
      "source": [
        "#loops aninhados\n",
        "for i in range(0,3):\n",
        "  for a in range(1,11):\n",
        "    print(a)"
      ],
      "execution_count": 97,
      "outputs": [
        {
          "output_type": "stream",
          "text": [
            "1\n",
            "2\n",
            "3\n",
            "4\n",
            "5\n",
            "6\n",
            "7\n",
            "8\n",
            "9\n",
            "10\n",
            "1\n",
            "2\n",
            "3\n",
            "4\n",
            "5\n",
            "6\n",
            "7\n",
            "8\n",
            "9\n",
            "10\n",
            "1\n",
            "2\n",
            "3\n",
            "4\n",
            "5\n",
            "6\n",
            "7\n",
            "8\n",
            "9\n",
            "10\n"
          ],
          "name": "stdout"
        }
      ]
    },
    {
      "cell_type": "code",
      "metadata": {
        "id": "8VS-JK-XYD9N",
        "colab_type": "code",
        "colab": {
          "base_uri": "https://localhost:8080/",
          "height": 34
        },
        "outputId": "b1bf01a9-1ec7-42b2-a71a-9afd24735bfe"
      },
      "source": [
        "# operando os valores de uma lista com loop for\n",
        "listaB = [32,53,85,10,15,17,19]\n",
        "soma = 0\n",
        "for i in listaB:\n",
        "  double_i = i * 2 \n",
        "  soma += double_i\n",
        "\n",
        "print(soma)"
      ],
      "execution_count": 99,
      "outputs": [
        {
          "output_type": "stream",
          "text": [
            "462\n"
          ],
          "name": "stdout"
        }
      ]
    },
    {
      "cell_type": "code",
      "metadata": {
        "id": "1oMpQNlfYtvq",
        "colab_type": "code",
        "colab": {
          "base_uri": "https://localhost:8080/",
          "height": 68
        },
        "outputId": "ba5a4802-381d-425c-e8da-420a6de4c906"
      },
      "source": [
        "# loops em lista de listas\n",
        "listas = [[1,2,3],[10,15,14],[10.1,8.7,2.3]]\n",
        "for valor in listas:\n",
        "  print(valor)"
      ],
      "execution_count": 100,
      "outputs": [
        {
          "output_type": "stream",
          "text": [
            "[1, 2, 3]\n",
            "[10, 15, 14]\n",
            "[10.1, 8.7, 2.3]\n"
          ],
          "name": "stdout"
        }
      ]
    },
    {
      "cell_type": "code",
      "metadata": {
        "id": "ks-TsnCZY-Ju",
        "colab_type": "code",
        "colab": {
          "base_uri": "https://localhost:8080/",
          "height": 34
        },
        "outputId": "f3a2a6eb-eecf-485c-9f5e-387dfcb7c6c0"
      },
      "source": [
        "# contando os itens de uma lista\n",
        "lista = [5,6,10,13,17,18,29]\n",
        "count = 0\n",
        "for item in lista:\n",
        "  count += 1\n",
        "\n",
        "print(count)"
      ],
      "execution_count": 108,
      "outputs": [
        {
          "output_type": "stream",
          "text": [
            "7\n"
          ],
          "name": "stdout"
        }
      ]
    },
    {
      "cell_type": "code",
      "metadata": {
        "id": "uUNw0W2oZKvL",
        "colab_type": "code",
        "colab": {
          "base_uri": "https://localhost:8080/",
          "height": 34
        },
        "outputId": "f7f4ad37-b95b-4eb4-f144-e0c7cb2dff45"
      },
      "source": [
        "# contando o número de colunas\n",
        "lst = [[1,2,3],[3,4,5],[5,6,7]]\n",
        "primeira_linha = lst[0]\n",
        "count = 0\n",
        "for column in primeira_linha:\n",
        "  count = count + 1\n",
        "\n",
        "print(count)"
      ],
      "execution_count": 114,
      "outputs": [
        {
          "output_type": "stream",
          "text": [
            "3\n"
          ],
          "name": "stdout"
        }
      ]
    },
    {
      "cell_type": "code",
      "metadata": {
        "id": "_h-SLvLybk6P",
        "colab_type": "code",
        "colab": {
          "base_uri": "https://localhost:8080/",
          "height": 34
        },
        "outputId": "7650bc03-9bb5-421b-9559-738b3c92784f"
      },
      "source": [
        "# pesquisando em listas \n",
        "listaC = [5,6,7,10,50]\n",
        "\n",
        "#loop através da lista\n",
        "for item in listaC:\n",
        "  if item == 5:\n",
        "      print(\"Número encontrado!\")"
      ],
      "execution_count": 117,
      "outputs": [
        {
          "output_type": "stream",
          "text": [
            "Número encontrado!\n"
          ],
          "name": "stdout"
        }
      ]
    },
    {
      "cell_type": "code",
      "metadata": {
        "id": "fhz3zKTgampM",
        "colab_type": "code",
        "colab": {
          "base_uri": "https://localhost:8080/",
          "height": 68
        },
        "outputId": "01122014-0ce1-4618-a00b-dacd87282c30"
      },
      "source": [
        "# Listando as chaves de um dicionário\n",
        "dict = {'k1': 'Python','k2':'R','k3': 'Scala'}\n",
        "for item in dict:\n",
        "  print(item)"
      ],
      "execution_count": 118,
      "outputs": [
        {
          "output_type": "stream",
          "text": [
            "k1\n",
            "k2\n",
            "k3\n"
          ],
          "name": "stdout"
        }
      ]
    },
    {
      "cell_type": "code",
      "metadata": {
        "id": "KNdGZrMOb-0I",
        "colab_type": "code",
        "colab": {
          "base_uri": "https://localhost:8080/",
          "height": 68
        },
        "outputId": "840ab2c5-3ecc-40e2-f618-e4d29d1a80de"
      },
      "source": [
        "# imprimindo chave e valor do dicionário. Usando o método items() para retornar os itens de um dicionário\n",
        "for k,v in dict.items():\n",
        "  print(k,v)"
      ],
      "execution_count": 119,
      "outputs": [
        {
          "output_type": "stream",
          "text": [
            "k1 Python\n",
            "k2 R\n",
            "k3 Scala\n"
          ],
          "name": "stdout"
        }
      ]
    },
    {
      "cell_type": "markdown",
      "metadata": {
        "id": "v9IqFhn0d0r9",
        "colab_type": "text"
      },
      "source": [
        "# LOOP WHILE\n"
      ]
    },
    {
      "cell_type": "code",
      "metadata": {
        "id": "QEWUgFssd68p",
        "colab_type": "code",
        "colab": {}
      },
      "source": [
        ""
      ],
      "execution_count": 0,
      "outputs": []
    },
    {
      "cell_type": "code",
      "metadata": {
        "id": "zKGKlKsecoy5",
        "colab_type": "code",
        "colab": {}
      },
      "source": [
        ""
      ],
      "execution_count": 0,
      "outputs": []
    }
  ]
}